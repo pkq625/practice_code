{
  "nbformat": 4,
  "nbformat_minor": 0,
  "metadata": {
    "colab": {
      "name": "Untitled6.ipynb",
      "provenance": [],
      "collapsed_sections": [],
      "authorship_tag": "ABX9TyOwN6yxfNAQoBJCrtlzSFF2"
    },
    "kernelspec": {
      "name": "python3",
      "display_name": "Python 3"
    },
    "language_info": {
      "name": "python"
    },
    "accelerator": "GPU"
  },
  "cells": [
    {
      "cell_type": "code",
      "metadata": {
        "id": "0Jit2nSTxGQs"
      },
      "source": [
        "import json\n",
        "token = {\"username\":\"\",\"key\":\"\"}\n",
        "username = input()\n",
        "key = input()\n",
        "with open('/content/kaggle.json','w') as f:\n",
        "  json.dump(token, f)"
      ],
      "execution_count": 1,
      "outputs": []
    },
    {
      "cell_type": "code",
      "metadata": {
        "colab": {
          "base_uri": "https://localhost:8080/"
        },
        "id": "LIMUZAjlyCGZ",
        "outputId": "8c6302c9-c3f0-4a06-a63b-07cea0b193d2"
      },
      "source": [
        "!mkdir -p ~/.kaggle\n",
        "!cp /content/kaggle.json ~/.kaggle/\n",
        "!chmod 600 ~/.kaggle/kaggle.json\n",
        "!kaggle config set -n path -v /content     # /content可替换成自己云盘里你想存放数据集的地址"
      ],
      "execution_count": 2,
      "outputs": [
        {
          "output_type": "stream",
          "text": [
            "- path is now set to: /content\n"
          ],
          "name": "stdout"
        }
      ]
    },
    {
      "cell_type": "code",
      "metadata": {
        "colab": {
          "base_uri": "https://localhost:8080/"
        },
        "id": "pzG_HNADyfvq",
        "outputId": "22774315-f4c0-4f70-9155-67f071ea811b"
      },
      "source": [
        "!kaggle datasets download -d tongpython/cat-and-dog"
      ],
      "execution_count": 3,
      "outputs": [
        {
          "output_type": "stream",
          "text": [
            "Downloading cat-and-dog.zip to /content/datasets/tongpython/cat-and-dog\n",
            " 94% 205M/218M [00:02<00:00, 95.5MB/s]\n",
            "100% 218M/218M [00:02<00:00, 88.9MB/s]\n"
          ],
          "name": "stdout"
        }
      ]
    },
    {
      "cell_type": "code",
      "metadata": {
        "id": "oNm79BE36aPe"
      },
      "source": [
        "!unzip /content/datasets/tongpython/cat-and-dog/cat-and-dog.zip"
      ],
      "execution_count": null,
      "outputs": []
    },
    {
      "cell_type": "code",
      "metadata": {
        "id": "F-C12eLFzlYU"
      },
      "source": [
        "cats_filename = '/content/training_set/training_set/cats'\n",
        "dogs_filename = '/content/training_set/training_set/dogs'\n",
        "savePath = '/content/ProccessedData'"
      ],
      "execution_count": 4,
      "outputs": []
    },
    {
      "cell_type": "code",
      "metadata": {
        "id": "K98ObAJv0Faf"
      },
      "source": [
        "class dataLoader():\n",
        "  def __init__(self, cats_filename, dogs_filename, savePath):\n",
        "    self.cats_filename = cats_filename\n",
        "    self.dogs_filename = dogs_filename\n",
        "    self.cat_files = os.listdir(cats_filename)\n",
        "    self.dog_files = os.listdir(dogs_filename)\n",
        "    self.trainX = None\n",
        "    self.trainY = None\n",
        "    self.testX = None\n",
        "    self.testY = None\n",
        "    self.savePath = savePath\n",
        "  def ProcessImg(self):\n",
        "    tempX = []\n",
        "    tempY = []\n",
        "    idx = 0\n",
        "    for file in self.cat_files:\n",
        "      img = cv2.imread(f'{self.cats_filename}/{file}')\n",
        "      if img is None:\n",
        "        print(idx)\n",
        "      else:\n",
        "        img = cv2.resize(img, (224, 224))\n",
        "        tempX.append(img)\n",
        "        tempY.append(1)\n",
        "        cv2.imwrite(f'{self.savePath}/cat_{idx}.jpg', img)\n",
        "      idx += 1\n",
        "    idx = 0\n",
        "    for file in self.dog_files:\n",
        "      img = cv2.imread(f'{self.dogs_filename}/{file}')\n",
        "      if img is None:\n",
        "        print(idx)\n",
        "      else:\n",
        "        img = cv2.resize(img, (224, 224))\n",
        "        tempX.append(img)\n",
        "        tempY.append(0)\n",
        "        cv2.imwrite(f'{self.savePath}/dog_{idx}.jpg', img)\n",
        "      idx += 1\n",
        "    tempX = np.array(tempX)\n",
        "    tempY = np.array(tempY)\n",
        "    self.trainX, self.testX, self.trainY, self.testY = train_test_split(tempX, tempY, shuffle=True, train_size=0.95)\n",
        "    self.trainY = to_categorical(self.trainY, 2)\n",
        "    self.testY = to_categorical(self.testY, 2)\n"
      ],
      "execution_count": 24,
      "outputs": []
    },
    {
      "cell_type": "code",
      "metadata": {
        "id": "WqfGWJvE_J2D"
      },
      "source": [
        "test_cats_filename = '/content/training_set/training_set/cats'\n",
        "test_dogs_filename = '/content/training_set/training_set/dogs'\n",
        "test_savePath = '/content/ProccessedData'"
      ],
      "execution_count": 31,
      "outputs": []
    },
    {
      "cell_type": "code",
      "metadata": {
        "id": "y9OoDjDk_Pdr"
      },
      "source": [
        "TestData = TestdataLoader(test_cats_filename, test_dogs_filename, test_savePath)"
      ],
      "execution_count": 32,
      "outputs": []
    },
    {
      "cell_type": "code",
      "metadata": {
        "colab": {
          "base_uri": "https://localhost:8080/"
        },
        "id": "LEfRhIBu_YVE",
        "outputId": "41f17243-1030-4eaf-8b86-5da83938d01a"
      },
      "source": [
        "TestData.ProcessImg()"
      ],
      "execution_count": 33,
      "outputs": [
        {
          "output_type": "stream",
          "text": [
            "36\n",
            "28\n"
          ],
          "name": "stdout"
        }
      ]
    },
    {
      "cell_type": "code",
      "metadata": {
        "id": "KtFSQWYA-7Wj"
      },
      "source": [
        "class TestdataLoader():\n",
        "  def __init__(self, cats_filename, dogs_filename, savePath):\n",
        "    self.cats_filename = cats_filename\n",
        "    self.dogs_filename = dogs_filename\n",
        "    self.cat_files = os.listdir(cats_filename)\n",
        "    self.dog_files = os.listdir(dogs_filename)\n",
        "    self.testX = None\n",
        "    self.testY = None\n",
        "    self.savePath = savePath\n",
        "  def ProcessImg(self):\n",
        "    tempX = []\n",
        "    tempY = []\n",
        "    idx = 0\n",
        "    for file in self.cat_files:\n",
        "      img = cv2.imread(f'{self.cats_filename}/{file}')\n",
        "      if img is None:\n",
        "        print(idx)\n",
        "      else:\n",
        "        img = cv2.resize(img, (224, 224))\n",
        "        tempX.append(img)\n",
        "        tempY.append(1)\n",
        "        cv2.imwrite(f'{self.savePath}/cat_{idx}.jpg', img)\n",
        "      idx += 1\n",
        "    idx = 0\n",
        "    for file in self.dog_files:\n",
        "      img = cv2.imread(f'{self.dogs_filename}/{file}')\n",
        "      if img is None:\n",
        "        print(idx)\n",
        "      else:\n",
        "        img = cv2.resize(img, (224, 224))\n",
        "        tempX.append(img)\n",
        "        tempY.append(0)\n",
        "        cv2.imwrite(f'{self.savePath}/dog_{idx}.jpg', img)\n",
        "      idx += 1\n",
        "    tempX = np.array(tempX)\n",
        "    tempY = np.array(tempY)\n",
        "    self.testX = tempX\n",
        "    self.testY = tempY\n",
        "    self.testY = to_categorical(self.testY, 2)\n"
      ],
      "execution_count": 30,
      "outputs": []
    },
    {
      "cell_type": "code",
      "metadata": {
        "id": "3F15ovaE3WsO"
      },
      "source": [
        "data = dataLoader(cats_filename, dogs_filename, savePath)"
      ],
      "execution_count": 9,
      "outputs": []
    },
    {
      "cell_type": "code",
      "metadata": {
        "colab": {
          "base_uri": "https://localhost:8080/"
        },
        "id": "pD6IR5tI5Iw2",
        "outputId": "2c5bceb1-e00d-465a-842d-c0381ad30312"
      },
      "source": [
        "data.ProcessImg()"
      ],
      "execution_count": 18,
      "outputs": [
        {
          "output_type": "stream",
          "text": [
            "36\n",
            "28\n"
          ],
          "name": "stdout"
        }
      ]
    },
    {
      "cell_type": "code",
      "metadata": {
        "id": "QRcJuAUhaLcW"
      },
      "source": [
        "import cv2\n",
        "import os"
      ],
      "execution_count": 7,
      "outputs": []
    },
    {
      "cell_type": "code",
      "metadata": {
        "id": "C28Fsa-kWMtB"
      },
      "source": [
        "import tensorflow as tf\n",
        "import numpy as np\n",
        "from tensorflow.keras.layers import Conv2D, MaxPool2D, BatchNormalization, Flatten, Dense, Dropout\n",
        "from tensorflow.keras import Sequential\n",
        "from tensorflow.keras.losses import BinaryCrossentropy\n",
        "from tensorflow.keras.utils import to_categorical\n",
        "from tensorflow.keras.optimizers import Adam, RMSprop\n",
        "from sklearn.model_selection import train_test_split"
      ],
      "execution_count": 8,
      "outputs": []
    },
    {
      "cell_type": "code",
      "metadata": {
        "id": "0m2otiq_XHKx"
      },
      "source": [
        "def createModel():\n",
        "    model = Sequential()\n",
        "    model.add(Conv2D(\n",
        "        input_shape=(224, 224, 3),\n",
        "        filters=32,\n",
        "        strides=1,\n",
        "        kernel_size=3,\n",
        "        activation='relu',\n",
        "        kernel_initializer='VarianceScaling'\n",
        "    ))\n",
        "\n",
        "    model.add(MaxPool2D(\n",
        "        pool_size=2,\n",
        "        strides=2\n",
        "    ))\n",
        "    model.add(Dropout(0.5))\n",
        "    model.add(BatchNormalization())\n",
        "\n",
        "    model.add(Conv2D(\n",
        "        filters=64,\n",
        "        strides=1,\n",
        "        kernel_size=3,\n",
        "        activation='relu',\n",
        "        kernel_initializer='VarianceScaling'\n",
        "    ))\n",
        "\n",
        "    model.add(MaxPool2D(\n",
        "        pool_size=2,\n",
        "        strides=2\n",
        "    ))\n",
        "\n",
        "    model.add(BatchNormalization())\n",
        "\n",
        "\n",
        "    model.add(Conv2D(\n",
        "        filters=128,\n",
        "        strides=1,\n",
        "        kernel_size=3,\n",
        "        activation='relu',\n",
        "        kernel_initializer='VarianceScaling'\n",
        "    ))\n",
        "\n",
        "    model.add(MaxPool2D(\n",
        "        pool_size=2,\n",
        "        strides=2\n",
        "    ))\n",
        "\n",
        "    model.add(BatchNormalization())\n",
        "\n",
        "\n",
        "    model.add(Conv2D(\n",
        "        filters=128,\n",
        "        strides=1,\n",
        "        kernel_size=3,\n",
        "        activation='relu',\n",
        "        kernel_initializer='VarianceScaling'\n",
        "    ))\n",
        "    model.add(Dropout(0.5))\n",
        "    model.add(MaxPool2D(\n",
        "        pool_size=2,\n",
        "        strides=2\n",
        "    ))\n",
        "\n",
        "    model.add(BatchNormalization())\n",
        "\n",
        "\n",
        "    model.add(Flatten())\n",
        "\n",
        "    model.add(Dense(\n",
        "        units=512,\n",
        "        kernel_initializer='VarianceScaling',\n",
        "        activation='relu'\n",
        "    ))\n",
        "    model.add(Dense(\n",
        "        units=2,\n",
        "        kernel_initializer='VarianceScaling',\n",
        "        activation='softmax'\n",
        "    ))\n",
        "    model.compile(optimizer=Adam(), metrics=['acc'], loss=BinaryCrossentropy())\n",
        "    return model"
      ],
      "execution_count": 11,
      "outputs": []
    },
    {
      "cell_type": "code",
      "metadata": {
        "colab": {
          "base_uri": "https://localhost:8080/"
        },
        "id": "yim9vL7MzKZ7",
        "outputId": "d958ffc7-e18f-4e02-8a17-5d1463bc3493"
      },
      "source": [
        "model = createModel()\n",
        "batch_size = 256\n",
        "epochs = 10\n",
        "model.fit(data.trainX, data.trainY, batch_size=batch_size, epochs = epochs, shuffle=True)\n",
        "loss, accuracy = model.evaluate(data.testX, data.testY)"
      ],
      "execution_count": 19,
      "outputs": [
        {
          "output_type": "stream",
          "text": [
            "Epoch 1/10\n",
            "29/29 [==============================] - 7s 206ms/step - loss: 1.5228 - acc: 0.5696\n",
            "Epoch 2/10\n",
            "29/29 [==============================] - 6s 209ms/step - loss: 0.7050 - acc: 0.6953\n",
            "Epoch 3/10\n",
            "29/29 [==============================] - 6s 208ms/step - loss: 0.5635 - acc: 0.7563\n",
            "Epoch 4/10\n",
            "29/29 [==============================] - 6s 207ms/step - loss: 0.4465 - acc: 0.8045\n",
            "Epoch 5/10\n",
            "29/29 [==============================] - 6s 207ms/step - loss: 0.3546 - acc: 0.8548\n",
            "Epoch 6/10\n",
            "29/29 [==============================] - 6s 207ms/step - loss: 0.3082 - acc: 0.8672\n",
            "Epoch 7/10\n",
            "29/29 [==============================] - 6s 207ms/step - loss: 0.2395 - acc: 0.9046\n",
            "Epoch 8/10\n",
            "29/29 [==============================] - 6s 208ms/step - loss: 0.1941 - acc: 0.9258\n",
            "Epoch 9/10\n",
            "29/29 [==============================] - 6s 206ms/step - loss: 0.1645 - acc: 0.9343\n",
            "Epoch 10/10\n",
            "29/29 [==============================] - 6s 206ms/step - loss: 0.1414 - acc: 0.9477\n",
            "26/26 [==============================] - 0s 10ms/step - loss: 1.5109 - acc: 0.6629\n"
          ],
          "name": "stdout"
        }
      ]
    },
    {
      "cell_type": "code",
      "metadata": {
        "colab": {
          "base_uri": "https://localhost:8080/"
        },
        "id": "_tRwPKxC51vl",
        "outputId": "35868c2a-164f-408a-94af-7bde01b6f68a"
      },
      "source": [
        "len(data.trainY)"
      ],
      "execution_count": 22,
      "outputs": [
        {
          "output_type": "execute_result",
          "data": {
            "text/plain": [
              "7204"
            ]
          },
          "metadata": {
            "tags": []
          },
          "execution_count": 22
        }
      ]
    },
    {
      "cell_type": "code",
      "metadata": {
        "id": "RQYKBZAT7w8y"
      },
      "source": [
        "trainX, testX, trainY, testY = train_test_split(data.testX, data.testY, shuffle=True, train_size=0.8)"
      ],
      "execution_count": 28,
      "outputs": []
    },
    {
      "cell_type": "code",
      "metadata": {
        "colab": {
          "base_uri": "https://localhost:8080/"
        },
        "id": "Ghzx_Di3-AJF",
        "outputId": "4efa9e73-44b8-4fef-a89e-0698087ec268"
      },
      "source": [
        "batch_size = 128\n",
        "model.fit(trainX, trainY, batch_size=batch_size, epochs = epochs, shuffle=True)\n",
        "loss, accuracy = model.evaluate(testX, testY)"
      ],
      "execution_count": 29,
      "outputs": [
        {
          "output_type": "stream",
          "text": [
            "Epoch 1/10\n",
            "5/5 [==============================] - 1s 109ms/step - loss: 1.0785 - acc: 0.7563\n",
            "Epoch 2/10\n",
            "5/5 [==============================] - 1s 111ms/step - loss: 0.1996 - acc: 0.9187\n",
            "Epoch 3/10\n",
            "5/5 [==============================] - 1s 109ms/step - loss: 0.0933 - acc: 0.9750\n",
            "Epoch 4/10\n",
            "5/5 [==============================] - 1s 108ms/step - loss: 0.0463 - acc: 0.9937\n",
            "Epoch 5/10\n",
            "5/5 [==============================] - 1s 108ms/step - loss: 0.0230 - acc: 0.9969\n",
            "Epoch 6/10\n",
            "5/5 [==============================] - 1s 110ms/step - loss: 0.0085 - acc: 1.0000\n",
            "Epoch 7/10\n",
            "5/5 [==============================] - 1s 107ms/step - loss: 0.0072 - acc: 1.0000\n",
            "Epoch 8/10\n",
            "5/5 [==============================] - 1s 107ms/step - loss: 0.0044 - acc: 1.0000\n",
            "Epoch 9/10\n",
            "5/5 [==============================] - 1s 108ms/step - loss: 0.0022 - acc: 1.0000\n",
            "Epoch 10/10\n",
            "5/5 [==============================] - 1s 106ms/step - loss: 0.0019 - acc: 1.0000\n",
            "6/6 [==============================] - 0s 9ms/step - loss: 1.1500 - acc: 0.7516\n"
          ],
          "name": "stdout"
        }
      ]
    },
    {
      "cell_type": "code",
      "metadata": {
        "colab": {
          "base_uri": "https://localhost:8080/"
        },
        "id": "7QVqbBVY-agp",
        "outputId": "643d7521-e5da-418d-9f3c-934288c1f219"
      },
      "source": [
        "loss, accuracy = model.evaluate(TestData.testX, TestData.testY)"
      ],
      "execution_count": 34,
      "outputs": [
        {
          "output_type": "stream",
          "text": [
            "251/251 [==============================] - 3s 10ms/step - loss: 1.0931 - acc: 0.7780\n"
          ],
          "name": "stdout"
        }
      ]
    },
    {
      "cell_type": "code",
      "metadata": {
        "id": "0v32NyKB72zr"
      },
      "source": [
        "model.save_weights('MyModel_Weights.h5')\n",
        "import tensorflowjs\n",
        "tensorflowjs.converters.save_keras_model(model, 'modelWeights')"
      ],
      "execution_count": null,
      "outputs": []
    }
  ]
}